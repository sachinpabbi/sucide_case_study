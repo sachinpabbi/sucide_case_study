{
 "cells": [
  {
   "cell_type": "code",
   "execution_count": 2,
   "metadata": {},
   "outputs": [],
   "source": [
    "import pandas as pd"
   ]
  },
  {
   "cell_type": "code",
   "execution_count": 3,
   "metadata": {},
   "outputs": [],
   "source": [
    "note=pd.read_csv('Suicidesindia2001-2012.csv')"
   ]
  },
  {
   "cell_type": "code",
   "execution_count": null,
   "metadata": {},
   "outputs": [],
   "source": []
  },
  {
   "cell_type": "code",
   "execution_count": 4,
   "metadata": {},
   "outputs": [
    {
     "data": {
      "text/plain": [
       "237519"
      ]
     },
     "execution_count": 4,
     "metadata": {},
     "output_type": "execute_result"
    }
   ],
   "source": [
    "a=note.Total.count()\n",
    "a"
   ]
  },
  {
   "cell_type": "code",
   "execution_count": null,
   "metadata": {},
   "outputs": [],
   "source": []
  },
  {
   "cell_type": "code",
   "execution_count": 5,
   "metadata": {},
   "outputs": [
    {
     "data": {
      "text/plain": [
       "Year\n",
       "2001    19797\n",
       "2002    19790\n",
       "2003    19786\n",
       "2004    19783\n",
       "2005    19803\n",
       "2006    19786\n",
       "2007    19794\n",
       "2008    19797\n",
       "2009    19786\n",
       "2010    19792\n",
       "2011    19806\n",
       "2012    19799\n",
       "Name: Total, dtype: int64"
      ]
     },
     "execution_count": 5,
     "metadata": {},
     "output_type": "execute_result"
    }
   ],
   "source": [
    "b=note.groupby('Year').Total.count()\n",
    "b"
   ]
  },
  {
   "cell_type": "code",
   "execution_count": null,
   "metadata": {},
   "outputs": [],
   "source": []
  },
  {
   "cell_type": "code",
   "execution_count": 6,
   "metadata": {},
   "outputs": [
    {
     "data": {
      "text/plain": [
       "Gender\n",
       "Female    118640\n",
       "Male      118879\n",
       "Name: Total, dtype: int64"
      ]
     },
     "execution_count": 6,
     "metadata": {},
     "output_type": "execute_result"
    }
   ],
   "source": [
    "c=note.groupby('Gender').Total.count()\n",
    "c"
   ]
  },
  {
   "cell_type": "code",
   "execution_count": null,
   "metadata": {},
   "outputs": [],
   "source": []
  },
  {
   "cell_type": "code",
   "execution_count": 7,
   "metadata": {},
   "outputs": [
    {
     "data": {
      "text/plain": [
       "State\n",
       "A & N Islands        6712\n",
       "Andhra Pradesh       6791\n",
       "Arunachal Pradesh    6707\n",
       "Assam                6786\n",
       "Bihar                6790\n",
       "Chandigarh           6717\n",
       "Chhattisgarh         6790\n",
       "D & N Haveli         6704\n",
       "Daman & Diu          6710\n",
       "Delhi (Ut)           6782\n",
       "Goa                  6759\n",
       "Gujarat              6786\n",
       "Haryana              6790\n",
       "Himachal Pradesh     6774\n",
       "Jammu & Kashmir      6761\n",
       "Jharkhand            6785\n",
       "Karnataka            6792\n",
       "Kerala               6788\n",
       "Lakshadweep          6674\n",
       "Madhya Pradesh       6792\n",
       "Maharashtra          6792\n",
       "Manipur              6700\n",
       "Meghalaya            6733\n",
       "Mizoram              6737\n",
       "Nagaland             6705\n",
       "Odisha               6791\n",
       "Puducherry           6730\n",
       "Punjab               6779\n",
       "Rajasthan            6791\n",
       "Sikkim               6742\n",
       "Tamil Nadu           6786\n",
       "Total (All India)     312\n",
       "Total (States)        312\n",
       "Total (Uts)           312\n",
       "Tripura              6782\n",
       "Uttar Pradesh        6787\n",
       "Uttarakhand          6758\n",
       "West Bengal          6780\n",
       "Name: Total, dtype: int64"
      ]
     },
     "execution_count": 7,
     "metadata": {},
     "output_type": "execute_result"
    }
   ],
   "source": [
    "d=note.groupby('State').Total.count()\n",
    "d"
   ]
  },
  {
   "cell_type": "code",
   "execution_count": null,
   "metadata": {},
   "outputs": [],
   "source": []
  },
  {
   "cell_type": "code",
   "execution_count": 8,
   "metadata": {},
   "outputs": [
    {
     "data": {
      "text/plain": [
       "State              Gender\n",
       "A & N Islands      Female    3345\n",
       "                   Male      3367\n",
       "Andhra Pradesh     Female    3395\n",
       "                   Male      3396\n",
       "Arunachal Pradesh  Female    3351\n",
       "                   Male      3356\n",
       "Assam              Female    3392\n",
       "                   Male      3394\n",
       "Bihar              Female    3394\n",
       "                   Male      3396\n",
       "Chandigarh         Female    3350\n",
       "                   Male      3367\n",
       "Chhattisgarh       Female    3394\n",
       "                   Male      3396\n",
       "D & N Haveli       Female    3343\n",
       "                   Male      3361\n",
       "Daman & Diu        Female    3348\n",
       "                   Male      3362\n",
       "Delhi (Ut)         Female    3388\n",
       "                   Male      3394\n",
       "Goa                Female    3374\n",
       "                   Male      3385\n",
       "Gujarat            Female    3390\n",
       "                   Male      3396\n",
       "Haryana            Female    3394\n",
       "                   Male      3396\n",
       "Himachal Pradesh   Female    3385\n",
       "                   Male      3389\n",
       "Jammu & Kashmir    Female    3379\n",
       "                   Male      3382\n",
       "                             ... \n",
       "Mizoram            Female    3361\n",
       "                   Male      3376\n",
       "Nagaland           Female    3345\n",
       "                   Male      3360\n",
       "Odisha             Female    3396\n",
       "                   Male      3395\n",
       "Puducherry         Female    3349\n",
       "                   Male      3381\n",
       "Punjab             Female    3387\n",
       "                   Male      3392\n",
       "Rajasthan          Female    3395\n",
       "                   Male      3396\n",
       "Sikkim             Female    3367\n",
       "                   Male      3375\n",
       "Tamil Nadu         Female    3394\n",
       "                   Male      3392\n",
       "Total (All India)  Female     156\n",
       "                   Male       156\n",
       "Total (States)     Female     156\n",
       "                   Male       156\n",
       "Total (Uts)        Female     156\n",
       "                   Male       156\n",
       "Tripura            Female    3390\n",
       "                   Male      3392\n",
       "Uttar Pradesh      Female    3393\n",
       "                   Male      3394\n",
       "Uttarakhand        Female    3375\n",
       "                   Male      3383\n",
       "West Bengal        Female    3389\n",
       "                   Male      3391\n",
       "Name: Total, Length: 76, dtype: int64"
      ]
     },
     "execution_count": 8,
     "metadata": {},
     "output_type": "execute_result"
    }
   ],
   "source": [
    "e=note.groupby(['State','Gender']).Total.count()\n",
    "e"
   ]
  },
  {
   "cell_type": "code",
   "execution_count": null,
   "metadata": {},
   "outputs": [],
   "source": []
  },
  {
   "cell_type": "code",
   "execution_count": 9,
   "metadata": {},
   "outputs": [
    {
     "data": {
      "text/plain": [
       "State              Year\n",
       "A & N Islands      2001    562\n",
       "                   2002    557\n",
       "                   2003    556\n",
       "                   2004    560\n",
       "                   2005    558\n",
       "                   2006    559\n",
       "                   2007    560\n",
       "                   2008    560\n",
       "                   2009    561\n",
       "                   2010    559\n",
       "                   2011    561\n",
       "                   2012    559\n",
       "Andhra Pradesh     2001    566\n",
       "                   2002    566\n",
       "                   2003    566\n",
       "                   2004    566\n",
       "                   2005    566\n",
       "                   2006    566\n",
       "                   2007    566\n",
       "                   2008    565\n",
       "                   2009    566\n",
       "                   2010    566\n",
       "                   2011    566\n",
       "                   2012    566\n",
       "Arunachal Pradesh  2001    556\n",
       "                   2002    556\n",
       "                   2003    556\n",
       "                   2004    556\n",
       "                   2005    556\n",
       "                   2006    561\n",
       "                          ... \n",
       "Uttar Pradesh      2007    564\n",
       "                   2008    566\n",
       "                   2009    566\n",
       "                   2010    566\n",
       "                   2011    564\n",
       "                   2012    565\n",
       "Uttarakhand        2001    563\n",
       "                   2002    565\n",
       "                   2003    563\n",
       "                   2004    565\n",
       "                   2005    564\n",
       "                   2006    563\n",
       "                   2007    563\n",
       "                   2008    563\n",
       "                   2009    556\n",
       "                   2010    563\n",
       "                   2011    564\n",
       "                   2012    566\n",
       "West Bengal        2001    566\n",
       "                   2002    566\n",
       "                   2003    566\n",
       "                   2004    565\n",
       "                   2005    566\n",
       "                   2006    565\n",
       "                   2007    566\n",
       "                   2008    566\n",
       "                   2009    566\n",
       "                   2010    566\n",
       "                   2011    566\n",
       "                   2012    556\n",
       "Name: Total, Length: 456, dtype: int64"
      ]
     },
     "execution_count": 9,
     "metadata": {},
     "output_type": "execute_result"
    }
   ],
   "source": [
    "f=note.groupby(['State','Year']).Total.count()\n",
    "f"
   ]
  },
  {
   "cell_type": "code",
   "execution_count": null,
   "metadata": {},
   "outputs": [],
   "source": []
  },
  {
   "cell_type": "code",
   "execution_count": 10,
   "metadata": {},
   "outputs": [
    {
     "data": {
      "text/plain": [
       "Year  Gender\n",
       "2001  Female    9886\n",
       "      Male      9911\n",
       "2002  Female    9884\n",
       "      Male      9906\n",
       "2003  Female    9886\n",
       "      Male      9900\n",
       "2004  Female    9880\n",
       "      Male      9903\n",
       "2005  Female    9892\n",
       "      Male      9911\n",
       "2006  Female    9883\n",
       "      Male      9903\n",
       "2007  Female    9888\n",
       "      Male      9906\n",
       "2008  Female    9891\n",
       "      Male      9906\n",
       "2009  Female    9885\n",
       "      Male      9901\n",
       "2010  Female    9883\n",
       "      Male      9909\n",
       "2011  Female    9891\n",
       "      Male      9915\n",
       "2012  Female    9891\n",
       "      Male      9908\n",
       "Name: Total, dtype: int64"
      ]
     },
     "execution_count": 10,
     "metadata": {},
     "output_type": "execute_result"
    }
   ],
   "source": [
    "g=note.groupby(['Year','Gender']).Total.count()\n",
    "g"
   ]
  },
  {
   "cell_type": "code",
   "execution_count": null,
   "metadata": {},
   "outputs": [],
   "source": []
  },
  {
   "cell_type": "code",
   "execution_count": 11,
   "metadata": {},
   "outputs": [
    {
     "data": {
      "text/plain": [
       "State           Year  Gender\n",
       "A & N Islands   2001  Female    279\n",
       "                      Male      283\n",
       "                2002  Female    278\n",
       "                      Male      279\n",
       "                2003  Female    278\n",
       "                      Male      278\n",
       "                2004  Female    279\n",
       "                      Male      281\n",
       "                2005  Female    278\n",
       "                      Male      280\n",
       "                2006  Female    278\n",
       "                      Male      281\n",
       "                2007  Female    280\n",
       "                      Male      280\n",
       "                2008  Female    279\n",
       "                      Male      281\n",
       "                2009  Female    280\n",
       "                      Male      281\n",
       "                2010  Female    278\n",
       "                      Male      281\n",
       "                2011  Female    279\n",
       "                      Male      282\n",
       "                2012  Female    279\n",
       "                      Male      280\n",
       "Andhra Pradesh  2001  Female    283\n",
       "                      Male      283\n",
       "                2002  Female    283\n",
       "                      Male      283\n",
       "                2003  Female    283\n",
       "                      Male      283\n",
       "                               ... \n",
       "Uttarakhand     2010  Female    281\n",
       "                      Male      282\n",
       "                2011  Female    281\n",
       "                      Male      283\n",
       "                2012  Female    283\n",
       "                      Male      283\n",
       "West Bengal     2001  Female    283\n",
       "                      Male      283\n",
       "                2002  Female    283\n",
       "                      Male      283\n",
       "                2003  Female    283\n",
       "                      Male      283\n",
       "                2004  Female    282\n",
       "                      Male      283\n",
       "                2005  Female    283\n",
       "                      Male      283\n",
       "                2006  Female    282\n",
       "                      Male      283\n",
       "                2007  Female    283\n",
       "                      Male      283\n",
       "                2008  Female    283\n",
       "                      Male      283\n",
       "                2009  Female    283\n",
       "                      Male      283\n",
       "                2010  Female    283\n",
       "                      Male      283\n",
       "                2011  Female    283\n",
       "                      Male      283\n",
       "                2012  Female    278\n",
       "                      Male      278\n",
       "Name: Total, Length: 912, dtype: int64"
      ]
     },
     "execution_count": 11,
     "metadata": {},
     "output_type": "execute_result"
    }
   ],
   "source": [
    "h=note.groupby(['State','Year','Gender']).Total.count()\n",
    "h"
   ]
  },
  {
   "cell_type": "code",
   "execution_count": null,
   "metadata": {},
   "outputs": [],
   "source": []
  },
  {
   "cell_type": "code",
   "execution_count": 12,
   "metadata": {},
   "outputs": [
    {
     "data": {
      "text/plain": [
       "9058"
      ]
     },
     "execution_count": 12,
     "metadata": {},
     "output_type": "execute_result"
    }
   ],
   "source": [
    "cancer=note.groupby('Type')\n",
    "cancer.get_group('Cancer').Total.sum()\n",
    "#i=note.groupby(['Type'=='Cancer']).Total.count()\n",
    "#i=cancer.get_group(\"Cancer\").Total.count()\n",
    "#3i=cancer.Total.count()\n",
    "#i"
   ]
  },
  {
   "cell_type": "code",
   "execution_count": null,
   "metadata": {},
   "outputs": [],
   "source": []
  },
  {
   "cell_type": "code",
   "execution_count": 13,
   "metadata": {},
   "outputs": [
    {
     "data": {
      "text/plain": [
       "2"
      ]
     },
     "execution_count": 13,
     "metadata": {},
     "output_type": "execute_result"
    }
   ],
   "source": [
    "j=note.groupby(['State','Year','Type','Gender'])\n",
    "j.get_group((\"Punjab\",2008,\"Cancer\",\"Female\"))[\"Total\"].sum()"
   ]
  },
  {
   "cell_type": "code",
   "execution_count": 14,
   "metadata": {},
   "outputs": [
    {
     "data": {
      "text/plain": [
       "10213708"
      ]
     },
     "execution_count": 14,
     "metadata": {},
     "output_type": "execute_result"
    }
   ],
   "source": [
    "a = note.groupby('State')\n",
    "a2 = note.groupby('State').filter(lambda x : (x[\"State\"] !=\"Total (All India)\").any())\n",
    "a2 = note.groupby('State').filter(lambda x : (x[\"State\"] !='Total (States)').any())\n",
    "u= a2.Total.sum() == a2.Total.sum().max()\n",
    "a2.Total.sum()[u]\n",
    "a2.Total.sum()"
   ]
  },
  {
   "cell_type": "code",
   "execution_count": 15,
   "metadata": {},
   "outputs": [
    {
     "ename": "NameError",
     "evalue": "name 'np' is not defined",
     "output_type": "error",
     "traceback": [
      "\u001b[1;31m---------------------------------------------------------------------------\u001b[0m",
      "\u001b[1;31mNameError\u001b[0m                                 Traceback (most recent call last)",
      "\u001b[1;32m<ipython-input-15-b9b029bb508b>\u001b[0m in \u001b[0;36m<module>\u001b[1;34m\u001b[0m\n\u001b[1;32m----> 1\u001b[1;33m \u001b[0mu\u001b[0m \u001b[1;33m=\u001b[0m \u001b[0mnote\u001b[0m\u001b[1;33m[\u001b[0m\u001b[0mnp\u001b[0m\u001b[1;33m.\u001b[0m\u001b[0mlogical_and\u001b[0m\u001b[1;33m(\u001b[0m\u001b[0mnote\u001b[0m\u001b[1;33m[\u001b[0m\u001b[1;34m'State'\u001b[0m\u001b[1;33m]\u001b[0m\u001b[1;33m!=\u001b[0m\u001b[1;34m'Total (All India)'\u001b[0m\u001b[1;33m,\u001b[0m\u001b[0mnote\u001b[0m\u001b[1;33m[\u001b[0m\u001b[1;34m'State'\u001b[0m\u001b[1;33m]\u001b[0m\u001b[1;33m!=\u001b[0m\u001b[1;34m'Total (States)'\u001b[0m\u001b[1;33m)\u001b[0m\u001b[1;33m]\u001b[0m\u001b[1;33m\u001b[0m\u001b[1;33m\u001b[0m\u001b[0m\n\u001b[0m\u001b[0;32m      2\u001b[0m \u001b[0mu\u001b[0m\u001b[1;33m=\u001b[0m\u001b[0mnote\u001b[0m\u001b[1;33m.\u001b[0m\u001b[0mgroupby\u001b[0m\u001b[1;33m(\u001b[0m\u001b[1;34m'State'\u001b[0m\u001b[1;33m)\u001b[0m\u001b[1;33m.\u001b[0m\u001b[0mTotal\u001b[0m\u001b[1;33m.\u001b[0m\u001b[0msum\u001b[0m\u001b[1;33m(\u001b[0m\u001b[1;33m)\u001b[0m \u001b[1;33m==\u001b[0m \u001b[0mnote\u001b[0m\u001b[1;33m.\u001b[0m\u001b[0mgroupby\u001b[0m\u001b[1;33m(\u001b[0m\u001b[1;34m'State'\u001b[0m\u001b[1;33m)\u001b[0m\u001b[1;33m.\u001b[0m\u001b[0mTotal\u001b[0m\u001b[1;33m.\u001b[0m\u001b[0msum\u001b[0m\u001b[1;33m(\u001b[0m\u001b[1;33m)\u001b[0m\u001b[1;33m.\u001b[0m\u001b[0mmax\u001b[0m\u001b[1;33m(\u001b[0m\u001b[1;33m)\u001b[0m\u001b[1;33m\u001b[0m\u001b[1;33m\u001b[0m\u001b[0m\n\u001b[0;32m      3\u001b[0m \u001b[0mnote\u001b[0m\u001b[1;33m.\u001b[0m\u001b[0mgroupby\u001b[0m\u001b[1;33m(\u001b[0m\u001b[1;34m'State'\u001b[0m\u001b[1;33m)\u001b[0m\u001b[1;33m.\u001b[0m\u001b[0mTotal\u001b[0m\u001b[1;33m.\u001b[0m\u001b[0msum\u001b[0m\u001b[1;33m(\u001b[0m\u001b[1;33m)\u001b[0m\u001b[1;33m[\u001b[0m\u001b[0mu\u001b[0m\u001b[1;33m]\u001b[0m\u001b[1;33m\u001b[0m\u001b[1;33m\u001b[0m\u001b[0m\n",
      "\u001b[1;31mNameError\u001b[0m: name 'np' is not defined"
     ]
    }
   ],
   "source": [
    "u = note[np.logical_and(note['State']!='Total (All India)',note['State']!='Total (States)')]\n",
    "u=note.groupby('State').Total.sum() == note.groupby('State').Total.sum().max()\n",
    "note.groupby('State').Total.sum()[u]"
   ]
  },
  {
   "cell_type": "code",
   "execution_count": null,
   "metadata": {},
   "outputs": [],
   "source": []
  },
  {
   "cell_type": "code",
   "execution_count": 44,
   "metadata": {},
   "outputs": [
    {
     "data": {
      "text/plain": [
       "State\n",
       "Maharashtra          901945\n",
       "West Bengal          849936\n",
       "Tamil Nadu           818691\n",
       "Andhra Pradesh       814059\n",
       "Karnataka            734825\n",
       "Kerala               538946\n",
       "Madhya Pradesh       451535\n",
       "Gujarat              330858\n",
       "Chhattisgarh         302354\n",
       "Odisha               267234\n",
       "Rajasthan            255134\n",
       "Uttar Pradesh        233352\n",
       "Assam                172276\n",
       "Haryana              147176\n",
       "Delhi (Ut)            84272\n",
       "Total (Uts)           53836\n",
       "Jharkhand             49720\n",
       "Punjab                46350\n",
       "Bihar                 46214\n",
       "Tripura               45965\n",
       "Puducherry            32144\n",
       "Himachal Pradesh      26562\n",
       "Uttarakhand           18496\n",
       "Goa                   17363\n",
       "Jammu & Kashmir       14821\n",
       "Sikkim                 9606\n",
       "A & N Islands          8109\n",
       "Arunachal Pradesh      6633\n",
       "Meghalaya              5415\n",
       "Chandigarh             5164\n",
       "Mizoram                4154\n",
       "D & N Haveli           3430\n",
       "Manipur                2102\n",
       "Nagaland               1728\n",
       "Daman & Diu            1391\n",
       "Lakshadweep              50\n",
       "Name: Total, dtype: int64"
      ]
     },
     "execution_count": 44,
     "metadata": {},
     "output_type": "execute_result"
    }
   ],
   "source": [
    "wc=note[(note['State']!='Total (All India)') & (note['State']!='Total (States)')]\n",
    "l=wc.groupby('State').Total.sum()\n",
    "l.sort_values(ascending=False)"
   ]
  },
  {
   "cell_type": "code",
   "execution_count": 35,
   "metadata": {},
   "outputs": [
    {
     "data": {
      "text/plain": [
       "State\n",
       "Total (All India)    2911862\n",
       "Total (States)       2858026\n",
       "Maharashtra           901945\n",
       "West Bengal           849936\n",
       "Tamil Nadu            818691\n",
       "Andhra Pradesh        814059\n",
       "Karnataka             734825\n",
       "Kerala                538946\n",
       "Madhya Pradesh        451535\n",
       "Gujarat               330858\n",
       "Chhattisgarh          302354\n",
       "Odisha                267234\n",
       "Rajasthan             255134\n",
       "Uttar Pradesh         233352\n",
       "Assam                 172276\n",
       "Haryana               147176\n",
       "Delhi (Ut)             84272\n",
       "Total (Uts)            53836\n",
       "Jharkhand              49720\n",
       "Punjab                 46350\n",
       "Bihar                  46214\n",
       "Tripura                45965\n",
       "Puducherry             32144\n",
       "Himachal Pradesh       26562\n",
       "Uttarakhand            18496\n",
       "Goa                    17363\n",
       "Jammu & Kashmir        14821\n",
       "Sikkim                  9606\n",
       "A & N Islands           8109\n",
       "Arunachal Pradesh       6633\n",
       "Meghalaya               5415\n",
       "Chandigarh              5164\n",
       "Mizoram                 4154\n",
       "D & N Haveli            3430\n",
       "Manipur                 2102\n",
       "Nagaland                1728\n",
       "Daman & Diu             1391\n",
       "Lakshadweep               50\n",
       "Name: Total, dtype: int64"
      ]
     },
     "execution_count": 35,
     "metadata": {},
     "output_type": "execute_result"
    }
   ],
   "source": [
    "l=note.groupby('State').Total.sum()\n",
    "l.sort_values(ascending=False)"
   ]
  },
  {
   "cell_type": "code",
   "execution_count": null,
   "metadata": {},
   "outputs": [],
   "source": []
  },
  {
   "cell_type": "code",
   "execution_count": 48,
   "metadata": {},
   "outputs": [
    {
     "data": {
      "text/plain": [
       "State           Year\n",
       "Tamil Nadu      2012    84635\n",
       "                2010    82805\n",
       "West Bengal     2011    82460\n",
       "Maharashtra     2012    80560\n",
       "West Bengal     2010    80185\n",
       "Tamil Nadu      2011    79815\n",
       "Maharashtra     2011    79735\n",
       "                2010    79580\n",
       "Andhra Pradesh  2010    79505\n",
       "West Bengal     2006    78625\n",
       "Maharashtra     2006    77470\n",
       "                2007    75920\n",
       "Andhra Pradesh  2011    75385\n",
       "West Bengal     2005    75075\n",
       "Andhra Pradesh  2007    74410\n",
       "West Bengal     2007    74300\n",
       "                2008    74260\n",
       "Maharashtra     2003    73800\n",
       "                2004    73645\n",
       "West Bengal     2009    73240\n",
       "Maharashtra     2001    73090\n",
       "                2002    72645\n",
       "Andhra Pradesh  2009    72500\n",
       "Maharashtra     2005    72130\n",
       "Tamil Nadu      2008    72125\n",
       "Maharashtra     2008    71870\n",
       "Tamil Nadu      2009    71832\n",
       "Andhra Pradesh  2008    71729\n",
       "Maharashtra     2009    71500\n",
       "Andhra Pradesh  2012    71190\n",
       "                        ...  \n",
       "Mizoram         2007      140\n",
       "Nagaland        2006      140\n",
       "                2005      135\n",
       "                2002      135\n",
       "Manipur         2009      134\n",
       "                2005      134\n",
       "                2003      130\n",
       "Daman & Diu     2003      118\n",
       "Nagaland        2007      116\n",
       "Daman & Diu     2009      115\n",
       "                2006      110\n",
       "Nagaland        2003      109\n",
       "Daman & Diu     2008       95\n",
       "                2002       85\n",
       "                2007       75\n",
       "                2001       69\n",
       "                2004       65\n",
       "Nagaland        2010       60\n",
       "Lakshadweep     2007       15\n",
       "                2006       10\n",
       "                2003       10\n",
       "                2009        5\n",
       "                2010        5\n",
       "                2012        5\n",
       "                2008        0\n",
       "                2005        0\n",
       "                2004        0\n",
       "                2002        0\n",
       "                2001        0\n",
       "                2011        0\n",
       "Name: Total, Length: 432, dtype: int64"
      ]
     },
     "execution_count": 48,
     "metadata": {},
     "output_type": "execute_result"
    }
   ],
   "source": [
    "wcg=note[(note['State']!='Total (All India)') & (note['State']!='Total (States)')]\n",
    "l=wcg.groupby(['State','Year']).Total.sum()\n",
    "l.sort_values(ascending=False)"
   ]
  },
  {
   "cell_type": "code",
   "execution_count": null,
   "metadata": {},
   "outputs": [],
   "source": []
  }
 ],
 "metadata": {
  "kernelspec": {
   "display_name": "Python 3",
   "language": "python",
   "name": "python3"
  },
  "language_info": {
   "codemirror_mode": {
    "name": "ipython",
    "version": 3
   },
   "file_extension": ".py",
   "mimetype": "text/x-python",
   "name": "python",
   "nbconvert_exporter": "python",
   "pygments_lexer": "ipython3",
   "version": "3.7.3"
  }
 },
 "nbformat": 4,
 "nbformat_minor": 2
}
